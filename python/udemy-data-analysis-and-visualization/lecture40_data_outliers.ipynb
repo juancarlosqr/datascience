{
 "cells": [
  {
   "cell_type": "code",
   "execution_count": 1,
   "metadata": {
    "collapsed": true
   },
   "outputs": [],
   "source": [
    "import numpy as np\n",
    "import pandas as pd\n",
    "from pandas import Series,DataFrame"
   ]
  },
  {
   "cell_type": "code",
   "execution_count": 2,
   "metadata": {
    "collapsed": true
   },
   "outputs": [],
   "source": [
    "np.random.seed(12345)"
   ]
  },
  {
   "cell_type": "code",
   "execution_count": 5,
   "metadata": {
    "collapsed": false
   },
   "outputs": [
    {
     "data": {
      "text/html": [
       "<div>\n",
       "<table border=\"1\" class=\"dataframe\">\n",
       "  <thead>\n",
       "    <tr style=\"text-align: right;\">\n",
       "      <th></th>\n",
       "      <th>0</th>\n",
       "      <th>1</th>\n",
       "      <th>2</th>\n",
       "      <th>3</th>\n",
       "    </tr>\n",
       "  </thead>\n",
       "  <tbody>\n",
       "    <tr>\n",
       "      <th>0</th>\n",
       "      <td>-1.166530</td>\n",
       "      <td>-0.075264</td>\n",
       "      <td>0.112345</td>\n",
       "      <td>0.166874</td>\n",
       "    </tr>\n",
       "    <tr>\n",
       "      <th>1</th>\n",
       "      <td>0.012628</td>\n",
       "      <td>0.815313</td>\n",
       "      <td>-0.732001</td>\n",
       "      <td>0.868791</td>\n",
       "    </tr>\n",
       "    <tr>\n",
       "      <th>2</th>\n",
       "      <td>0.149693</td>\n",
       "      <td>0.485218</td>\n",
       "      <td>0.161056</td>\n",
       "      <td>-1.068808</td>\n",
       "    </tr>\n",
       "    <tr>\n",
       "      <th>3</th>\n",
       "      <td>1.190359</td>\n",
       "      <td>-1.053204</td>\n",
       "      <td>0.776001</td>\n",
       "      <td>1.311260</td>\n",
       "    </tr>\n",
       "    <tr>\n",
       "      <th>4</th>\n",
       "      <td>1.159677</td>\n",
       "      <td>0.477395</td>\n",
       "      <td>-0.004493</td>\n",
       "      <td>0.574631</td>\n",
       "    </tr>\n",
       "  </tbody>\n",
       "</table>\n",
       "</div>"
      ],
      "text/plain": [
       "          0         1         2         3\n",
       "0 -1.166530 -0.075264  0.112345  0.166874\n",
       "1  0.012628  0.815313 -0.732001  0.868791\n",
       "2  0.149693  0.485218  0.161056 -1.068808\n",
       "3  1.190359 -1.053204  0.776001  1.311260\n",
       "4  1.159677  0.477395 -0.004493  0.574631"
      ]
     },
     "execution_count": 5,
     "metadata": {},
     "output_type": "execute_result"
    }
   ],
   "source": [
    "df = DataFrame(np.random.randn(1000,4))\n",
    "\n",
    "df.head()"
   ]
  },
  {
   "cell_type": "code",
   "execution_count": 6,
   "metadata": {
    "collapsed": false
   },
   "outputs": [
    {
     "data": {
      "text/html": [
       "<div>\n",
       "<table border=\"1\" class=\"dataframe\">\n",
       "  <thead>\n",
       "    <tr style=\"text-align: right;\">\n",
       "      <th></th>\n",
       "      <th>0</th>\n",
       "      <th>1</th>\n",
       "      <th>2</th>\n",
       "      <th>3</th>\n",
       "    </tr>\n",
       "  </thead>\n",
       "  <tbody>\n",
       "    <tr>\n",
       "      <th>995</th>\n",
       "      <td>-1.530608</td>\n",
       "      <td>0.058991</td>\n",
       "      <td>-0.337120</td>\n",
       "      <td>1.129394</td>\n",
       "    </tr>\n",
       "    <tr>\n",
       "      <th>996</th>\n",
       "      <td>-0.151214</td>\n",
       "      <td>-0.898121</td>\n",
       "      <td>-1.467595</td>\n",
       "      <td>-1.086964</td>\n",
       "    </tr>\n",
       "    <tr>\n",
       "      <th>997</th>\n",
       "      <td>-0.104017</td>\n",
       "      <td>1.442214</td>\n",
       "      <td>-1.713617</td>\n",
       "      <td>0.936543</td>\n",
       "    </tr>\n",
       "    <tr>\n",
       "      <th>998</th>\n",
       "      <td>1.932427</td>\n",
       "      <td>0.530258</td>\n",
       "      <td>-0.217213</td>\n",
       "      <td>0.988951</td>\n",
       "    </tr>\n",
       "    <tr>\n",
       "      <th>999</th>\n",
       "      <td>0.193746</td>\n",
       "      <td>-1.744483</td>\n",
       "      <td>0.761804</td>\n",
       "      <td>-1.544201</td>\n",
       "    </tr>\n",
       "  </tbody>\n",
       "</table>\n",
       "</div>"
      ],
      "text/plain": [
       "            0         1         2         3\n",
       "995 -1.530608  0.058991 -0.337120  1.129394\n",
       "996 -0.151214 -0.898121 -1.467595 -1.086964\n",
       "997 -0.104017  1.442214 -1.713617  0.936543\n",
       "998  1.932427  0.530258 -0.217213  0.988951\n",
       "999  0.193746 -1.744483  0.761804 -1.544201"
      ]
     },
     "execution_count": 6,
     "metadata": {},
     "output_type": "execute_result"
    }
   ],
   "source": [
    "df.tail()"
   ]
  },
  {
   "cell_type": "code",
   "execution_count": 7,
   "metadata": {
    "collapsed": false
   },
   "outputs": [
    {
     "data": {
      "text/html": [
       "<div>\n",
       "<table border=\"1\" class=\"dataframe\">\n",
       "  <thead>\n",
       "    <tr style=\"text-align: right;\">\n",
       "      <th></th>\n",
       "      <th>0</th>\n",
       "      <th>1</th>\n",
       "      <th>2</th>\n",
       "      <th>3</th>\n",
       "    </tr>\n",
       "  </thead>\n",
       "  <tbody>\n",
       "    <tr>\n",
       "      <th>count</th>\n",
       "      <td>1000.000000</td>\n",
       "      <td>1000.000000</td>\n",
       "      <td>1000.000000</td>\n",
       "      <td>1000.000000</td>\n",
       "    </tr>\n",
       "    <tr>\n",
       "      <th>mean</th>\n",
       "      <td>-0.039859</td>\n",
       "      <td>-0.033350</td>\n",
       "      <td>-0.011749</td>\n",
       "      <td>-0.031858</td>\n",
       "    </tr>\n",
       "    <tr>\n",
       "      <th>std</th>\n",
       "      <td>1.004647</td>\n",
       "      <td>0.998154</td>\n",
       "      <td>0.987471</td>\n",
       "      <td>1.013590</td>\n",
       "    </tr>\n",
       "    <tr>\n",
       "      <th>min</th>\n",
       "      <td>-3.530912</td>\n",
       "      <td>-3.024110</td>\n",
       "      <td>-3.170292</td>\n",
       "      <td>-3.105636</td>\n",
       "    </tr>\n",
       "    <tr>\n",
       "      <th>25%</th>\n",
       "      <td>-0.738643</td>\n",
       "      <td>-0.698731</td>\n",
       "      <td>-0.692887</td>\n",
       "      <td>-0.758010</td>\n",
       "    </tr>\n",
       "    <tr>\n",
       "      <th>50%</th>\n",
       "      <td>0.011608</td>\n",
       "      <td>-0.016171</td>\n",
       "      <td>0.022570</td>\n",
       "      <td>-0.035527</td>\n",
       "    </tr>\n",
       "    <tr>\n",
       "      <th>75%</th>\n",
       "      <td>0.663800</td>\n",
       "      <td>0.605952</td>\n",
       "      <td>0.666451</td>\n",
       "      <td>0.693491</td>\n",
       "    </tr>\n",
       "    <tr>\n",
       "      <th>max</th>\n",
       "      <td>2.916153</td>\n",
       "      <td>3.061029</td>\n",
       "      <td>2.623689</td>\n",
       "      <td>3.144389</td>\n",
       "    </tr>\n",
       "  </tbody>\n",
       "</table>\n",
       "</div>"
      ],
      "text/plain": [
       "                 0            1            2            3\n",
       "count  1000.000000  1000.000000  1000.000000  1000.000000\n",
       "mean     -0.039859    -0.033350    -0.011749    -0.031858\n",
       "std       1.004647     0.998154     0.987471     1.013590\n",
       "min      -3.530912    -3.024110    -3.170292    -3.105636\n",
       "25%      -0.738643    -0.698731    -0.692887    -0.758010\n",
       "50%       0.011608    -0.016171     0.022570    -0.035527\n",
       "75%       0.663800     0.605952     0.666451     0.693491\n",
       "max       2.916153     3.061029     2.623689     3.144389"
      ]
     },
     "execution_count": 7,
     "metadata": {},
     "output_type": "execute_result"
    }
   ],
   "source": [
    "df.describe()"
   ]
  },
  {
   "cell_type": "code",
   "execution_count": 10,
   "metadata": {
    "collapsed": true
   },
   "outputs": [],
   "source": [
    "col1 = df[0]"
   ]
  },
  {
   "cell_type": "code",
   "execution_count": 12,
   "metadata": {
    "collapsed": false
   },
   "outputs": [
    {
     "data": {
      "text/plain": [
       "0   -1.166530\n",
       "1    0.012628\n",
       "2    0.149693\n",
       "3    1.190359\n",
       "4    1.159677\n",
       "Name: 0, dtype: float64"
      ]
     },
     "execution_count": 12,
     "metadata": {},
     "output_type": "execute_result"
    }
   ],
   "source": [
    "col1.head()"
   ]
  },
  {
   "cell_type": "code",
   "execution_count": 14,
   "metadata": {
    "collapsed": false
   },
   "outputs": [
    {
     "data": {
      "text/plain": [
       "421   -3.530912\n",
       "Name: 0, dtype: float64"
      ]
     },
     "execution_count": 14,
     "metadata": {},
     "output_type": "execute_result"
    }
   ],
   "source": [
    "col1[np.abs(col1)>3]"
   ]
  },
  {
   "cell_type": "code",
   "execution_count": 15,
   "metadata": {
    "collapsed": false
   },
   "outputs": [
    {
     "data": {
      "text/html": [
       "<div>\n",
       "<table border=\"1\" class=\"dataframe\">\n",
       "  <thead>\n",
       "    <tr style=\"text-align: right;\">\n",
       "      <th></th>\n",
       "      <th>0</th>\n",
       "      <th>1</th>\n",
       "      <th>2</th>\n",
       "      <th>3</th>\n",
       "    </tr>\n",
       "  </thead>\n",
       "  <tbody>\n",
       "    <tr>\n",
       "      <th>158</th>\n",
       "      <td>0.623798</td>\n",
       "      <td>-0.436479</td>\n",
       "      <td>0.901529</td>\n",
       "      <td>-3.044612</td>\n",
       "    </tr>\n",
       "    <tr>\n",
       "      <th>192</th>\n",
       "      <td>0.617561</td>\n",
       "      <td>-1.148738</td>\n",
       "      <td>-3.170292</td>\n",
       "      <td>-1.017073</td>\n",
       "    </tr>\n",
       "    <tr>\n",
       "      <th>348</th>\n",
       "      <td>0.813014</td>\n",
       "      <td>-1.202724</td>\n",
       "      <td>-0.286215</td>\n",
       "      <td>-3.105636</td>\n",
       "    </tr>\n",
       "    <tr>\n",
       "      <th>360</th>\n",
       "      <td>0.123291</td>\n",
       "      <td>-3.024110</td>\n",
       "      <td>-1.168413</td>\n",
       "      <td>-0.888664</td>\n",
       "    </tr>\n",
       "    <tr>\n",
       "      <th>421</th>\n",
       "      <td>-3.530912</td>\n",
       "      <td>-0.576175</td>\n",
       "      <td>-0.750648</td>\n",
       "      <td>0.025443</td>\n",
       "    </tr>\n",
       "    <tr>\n",
       "      <th>712</th>\n",
       "      <td>-0.928871</td>\n",
       "      <td>3.061029</td>\n",
       "      <td>-0.297909</td>\n",
       "      <td>0.990886</td>\n",
       "    </tr>\n",
       "    <tr>\n",
       "      <th>787</th>\n",
       "      <td>0.836054</td>\n",
       "      <td>-0.780620</td>\n",
       "      <td>0.622791</td>\n",
       "      <td>3.144389</td>\n",
       "    </tr>\n",
       "  </tbody>\n",
       "</table>\n",
       "</div>"
      ],
      "text/plain": [
       "            0         1         2         3\n",
       "158  0.623798 -0.436479  0.901529 -3.044612\n",
       "192  0.617561 -1.148738 -3.170292 -1.017073\n",
       "348  0.813014 -1.202724 -0.286215 -3.105636\n",
       "360  0.123291 -3.024110 -1.168413 -0.888664\n",
       "421 -3.530912 -0.576175 -0.750648  0.025443\n",
       "712 -0.928871  3.061029 -0.297909  0.990886\n",
       "787  0.836054 -0.780620  0.622791  3.144389"
      ]
     },
     "execution_count": 15,
     "metadata": {},
     "output_type": "execute_result"
    }
   ],
   "source": [
    "df[(np.abs(df)>3).any(1)]"
   ]
  },
  {
   "cell_type": "code",
   "execution_count": 18,
   "metadata": {
    "collapsed": true
   },
   "outputs": [],
   "source": [
    "df[np.abs(df)>3] = np.sign(df) * 3"
   ]
  },
  {
   "cell_type": "code",
   "execution_count": 19,
   "metadata": {
    "collapsed": false
   },
   "outputs": [
    {
     "data": {
      "text/html": [
       "<div>\n",
       "<table border=\"1\" class=\"dataframe\">\n",
       "  <thead>\n",
       "    <tr style=\"text-align: right;\">\n",
       "      <th></th>\n",
       "      <th>0</th>\n",
       "      <th>1</th>\n",
       "      <th>2</th>\n",
       "      <th>3</th>\n",
       "    </tr>\n",
       "  </thead>\n",
       "  <tbody>\n",
       "    <tr>\n",
       "      <th>count</th>\n",
       "      <td>1000.000000</td>\n",
       "      <td>1000.000000</td>\n",
       "      <td>1000.000000</td>\n",
       "      <td>1000.000000</td>\n",
       "    </tr>\n",
       "    <tr>\n",
       "      <th>mean</th>\n",
       "      <td>-0.039328</td>\n",
       "      <td>-0.033386</td>\n",
       "      <td>-0.011579</td>\n",
       "      <td>-0.031852</td>\n",
       "    </tr>\n",
       "    <tr>\n",
       "      <th>std</th>\n",
       "      <td>1.002939</td>\n",
       "      <td>0.997895</td>\n",
       "      <td>0.986940</td>\n",
       "      <td>1.012700</td>\n",
       "    </tr>\n",
       "    <tr>\n",
       "      <th>min</th>\n",
       "      <td>-3.000000</td>\n",
       "      <td>-3.000000</td>\n",
       "      <td>-3.000000</td>\n",
       "      <td>-3.000000</td>\n",
       "    </tr>\n",
       "    <tr>\n",
       "      <th>25%</th>\n",
       "      <td>-0.738643</td>\n",
       "      <td>-0.698731</td>\n",
       "      <td>-0.692887</td>\n",
       "      <td>-0.758010</td>\n",
       "    </tr>\n",
       "    <tr>\n",
       "      <th>50%</th>\n",
       "      <td>0.011608</td>\n",
       "      <td>-0.016171</td>\n",
       "      <td>0.022570</td>\n",
       "      <td>-0.035527</td>\n",
       "    </tr>\n",
       "    <tr>\n",
       "      <th>75%</th>\n",
       "      <td>0.663800</td>\n",
       "      <td>0.605952</td>\n",
       "      <td>0.666451</td>\n",
       "      <td>0.693491</td>\n",
       "    </tr>\n",
       "    <tr>\n",
       "      <th>max</th>\n",
       "      <td>2.916153</td>\n",
       "      <td>3.000000</td>\n",
       "      <td>2.623689</td>\n",
       "      <td>3.000000</td>\n",
       "    </tr>\n",
       "  </tbody>\n",
       "</table>\n",
       "</div>"
      ],
      "text/plain": [
       "                 0            1            2            3\n",
       "count  1000.000000  1000.000000  1000.000000  1000.000000\n",
       "mean     -0.039328    -0.033386    -0.011579    -0.031852\n",
       "std       1.002939     0.997895     0.986940     1.012700\n",
       "min      -3.000000    -3.000000    -3.000000    -3.000000\n",
       "25%      -0.738643    -0.698731    -0.692887    -0.758010\n",
       "50%       0.011608    -0.016171     0.022570    -0.035527\n",
       "75%       0.663800     0.605952     0.666451     0.693491\n",
       "max       2.916153     3.000000     2.623689     3.000000"
      ]
     },
     "execution_count": 19,
     "metadata": {},
     "output_type": "execute_result"
    }
   ],
   "source": [
    "df.describe()"
   ]
  },
  {
   "cell_type": "code",
   "execution_count": null,
   "metadata": {
    "collapsed": true
   },
   "outputs": [],
   "source": []
  },
  {
   "cell_type": "code",
   "execution_count": null,
   "metadata": {
    "collapsed": true
   },
   "outputs": [],
   "source": []
  }
 ],
 "metadata": {
  "kernelspec": {
   "display_name": "Python 2",
   "language": "python",
   "name": "python2"
  },
  "language_info": {
   "codemirror_mode": {
    "name": "ipython",
    "version": 2
   },
   "file_extension": ".py",
   "mimetype": "text/x-python",
   "name": "python",
   "nbconvert_exporter": "python",
   "pygments_lexer": "ipython2",
   "version": "2.7.11"
  }
 },
 "nbformat": 4,
 "nbformat_minor": 0
}
