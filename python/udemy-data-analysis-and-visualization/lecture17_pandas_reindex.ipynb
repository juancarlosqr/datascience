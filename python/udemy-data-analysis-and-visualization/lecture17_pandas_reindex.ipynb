{
 "cells": [
  {
   "cell_type": "code",
   "execution_count": 3,
   "metadata": {
    "collapsed": false
   },
   "outputs": [],
   "source": [
    "import numpy as np\n",
    "import pandas as pd\n",
    "from pandas import Series, DataFrame\n",
    "from numpy.random import randn"
   ]
  },
  {
   "cell_type": "code",
   "execution_count": 5,
   "metadata": {
    "collapsed": false
   },
   "outputs": [],
   "source": [
    "ser1 = Series([1,2,3,4], index=['A','B','C','D'])"
   ]
  },
  {
   "cell_type": "code",
   "execution_count": 6,
   "metadata": {
    "collapsed": false
   },
   "outputs": [
    {
     "data": {
      "text/plain": [
       "A    1\n",
       "B    2\n",
       "C    3\n",
       "D    4\n",
       "dtype: int64"
      ]
     },
     "execution_count": 6,
     "metadata": {},
     "output_type": "execute_result"
    }
   ],
   "source": [
    "ser1"
   ]
  },
  {
   "cell_type": "code",
   "execution_count": 7,
   "metadata": {
    "collapsed": true
   },
   "outputs": [],
   "source": [
    "ser2 = ser1.reindex(['A','B','C','D','E','F'])"
   ]
  },
  {
   "cell_type": "code",
   "execution_count": 8,
   "metadata": {
    "collapsed": false
   },
   "outputs": [
    {
     "data": {
      "text/plain": [
       "A    1.0\n",
       "B    2.0\n",
       "C    3.0\n",
       "D    4.0\n",
       "E    NaN\n",
       "F    NaN\n",
       "dtype: float64"
      ]
     },
     "execution_count": 8,
     "metadata": {},
     "output_type": "execute_result"
    }
   ],
   "source": [
    "ser2"
   ]
  },
  {
   "cell_type": "code",
   "execution_count": 12,
   "metadata": {
    "collapsed": false
   },
   "outputs": [
    {
     "data": {
      "text/plain": [
       "A    1.0\n",
       "B    2.0\n",
       "C    3.0\n",
       "D    4.0\n",
       "E    NaN\n",
       "F    NaN\n",
       "G    0.0\n",
       "dtype: float64"
      ]
     },
     "execution_count": 12,
     "metadata": {},
     "output_type": "execute_result"
    }
   ],
   "source": [
    "ser2.reindex(['A','B','C','D','E','F', 'G'], fill_value=0)"
   ]
  },
  {
   "cell_type": "code",
   "execution_count": 21,
   "metadata": {
    "collapsed": false
   },
   "outputs": [
    {
     "data": {
      "text/plain": [
       "0           USA\n",
       "5        Canada\n",
       "10      Germany\n",
       "15    Venezuela\n",
       "dtype: object"
      ]
     },
     "execution_count": 21,
     "metadata": {},
     "output_type": "execute_result"
    }
   ],
   "source": [
    "ser3 = Series(['USA', 'Canada', 'Germany', 'Venezuela'], index=[0,5,10,15])\n",
    "\n",
    "ser3"
   ]
  },
  {
   "cell_type": "code",
   "execution_count": 24,
   "metadata": {
    "collapsed": false
   },
   "outputs": [
    {
     "data": {
      "text/plain": [
       "range(0, 20)"
      ]
     },
     "execution_count": 24,
     "metadata": {},
     "output_type": "execute_result"
    }
   ],
   "source": [
    "ranger = range(20)\n",
    "\n",
    "ranger"
   ]
  },
  {
   "cell_type": "code",
   "execution_count": 25,
   "metadata": {
    "collapsed": false
   },
   "outputs": [
    {
     "data": {
      "text/plain": [
       "0           USA\n",
       "1           USA\n",
       "2           USA\n",
       "3           USA\n",
       "4           USA\n",
       "5        Canada\n",
       "6        Canada\n",
       "7        Canada\n",
       "8        Canada\n",
       "9        Canada\n",
       "10      Germany\n",
       "11      Germany\n",
       "12      Germany\n",
       "13      Germany\n",
       "14      Germany\n",
       "15    Venezuela\n",
       "16    Venezuela\n",
       "17    Venezuela\n",
       "18    Venezuela\n",
       "19    Venezuela\n",
       "dtype: object"
      ]
     },
     "execution_count": 25,
     "metadata": {},
     "output_type": "execute_result"
    }
   ],
   "source": [
    "ser3.reindex(ranger, method='ffill')"
   ]
  },
  {
   "cell_type": "code",
   "execution_count": 28,
   "metadata": {
    "collapsed": false
   },
   "outputs": [
    {
     "data": {
      "text/html": [
       "<div>\n",
       "<table border=\"1\" class=\"dataframe\">\n",
       "  <thead>\n",
       "    <tr style=\"text-align: right;\">\n",
       "      <th></th>\n",
       "      <th>col1</th>\n",
       "      <th>col2</th>\n",
       "      <th>col3</th>\n",
       "      <th>col4</th>\n",
       "      <th>col5</th>\n",
       "    </tr>\n",
       "  </thead>\n",
       "  <tbody>\n",
       "    <tr>\n",
       "      <th>A</th>\n",
       "      <td>2.673446</td>\n",
       "      <td>0.534271</td>\n",
       "      <td>-0.498221</td>\n",
       "      <td>-0.143774</td>\n",
       "      <td>-0.427843</td>\n",
       "    </tr>\n",
       "    <tr>\n",
       "      <th>B</th>\n",
       "      <td>-0.432098</td>\n",
       "      <td>-0.503221</td>\n",
       "      <td>0.313894</td>\n",
       "      <td>-0.437301</td>\n",
       "      <td>0.044688</td>\n",
       "    </tr>\n",
       "    <tr>\n",
       "      <th>D</th>\n",
       "      <td>-0.510158</td>\n",
       "      <td>0.143061</td>\n",
       "      <td>-0.986030</td>\n",
       "      <td>0.475656</td>\n",
       "      <td>0.330070</td>\n",
       "    </tr>\n",
       "    <tr>\n",
       "      <th>E</th>\n",
       "      <td>0.372351</td>\n",
       "      <td>-0.039455</td>\n",
       "      <td>0.119416</td>\n",
       "      <td>-0.091621</td>\n",
       "      <td>0.459434</td>\n",
       "    </tr>\n",
       "    <tr>\n",
       "      <th>F</th>\n",
       "      <td>1.052440</td>\n",
       "      <td>1.676853</td>\n",
       "      <td>0.094036</td>\n",
       "      <td>0.140220</td>\n",
       "      <td>1.295290</td>\n",
       "    </tr>\n",
       "  </tbody>\n",
       "</table>\n",
       "</div>"
      ],
      "text/plain": [
       "       col1      col2      col3      col4      col5\n",
       "A  2.673446  0.534271 -0.498221 -0.143774 -0.427843\n",
       "B -0.432098 -0.503221  0.313894 -0.437301  0.044688\n",
       "D -0.510158  0.143061 -0.986030  0.475656  0.330070\n",
       "E  0.372351 -0.039455  0.119416 -0.091621  0.459434\n",
       "F  1.052440  1.676853  0.094036  0.140220  1.295290"
      ]
     },
     "execution_count": 28,
     "metadata": {},
     "output_type": "execute_result"
    }
   ],
   "source": [
    "df = DataFrame(randn(25).reshape((5,5)), index=['A', 'B', 'D', 'E', 'F'],\n",
    "               columns=['col1','col2','col3','col4','col5'])\n",
    "\n",
    "df"
   ]
  },
  {
   "cell_type": "code",
   "execution_count": 29,
   "metadata": {
    "collapsed": false
   },
   "outputs": [
    {
     "data": {
      "text/html": [
       "<div>\n",
       "<table border=\"1\" class=\"dataframe\">\n",
       "  <thead>\n",
       "    <tr style=\"text-align: right;\">\n",
       "      <th></th>\n",
       "      <th>col1</th>\n",
       "      <th>col2</th>\n",
       "      <th>col3</th>\n",
       "      <th>col4</th>\n",
       "      <th>col5</th>\n",
       "    </tr>\n",
       "  </thead>\n",
       "  <tbody>\n",
       "    <tr>\n",
       "      <th>A</th>\n",
       "      <td>2.673446</td>\n",
       "      <td>0.534271</td>\n",
       "      <td>-0.498221</td>\n",
       "      <td>-0.143774</td>\n",
       "      <td>-0.427843</td>\n",
       "    </tr>\n",
       "    <tr>\n",
       "      <th>B</th>\n",
       "      <td>-0.432098</td>\n",
       "      <td>-0.503221</td>\n",
       "      <td>0.313894</td>\n",
       "      <td>-0.437301</td>\n",
       "      <td>0.044688</td>\n",
       "    </tr>\n",
       "    <tr>\n",
       "      <th>C</th>\n",
       "      <td>NaN</td>\n",
       "      <td>NaN</td>\n",
       "      <td>NaN</td>\n",
       "      <td>NaN</td>\n",
       "      <td>NaN</td>\n",
       "    </tr>\n",
       "    <tr>\n",
       "      <th>D</th>\n",
       "      <td>-0.510158</td>\n",
       "      <td>0.143061</td>\n",
       "      <td>-0.986030</td>\n",
       "      <td>0.475656</td>\n",
       "      <td>0.330070</td>\n",
       "    </tr>\n",
       "    <tr>\n",
       "      <th>E</th>\n",
       "      <td>0.372351</td>\n",
       "      <td>-0.039455</td>\n",
       "      <td>0.119416</td>\n",
       "      <td>-0.091621</td>\n",
       "      <td>0.459434</td>\n",
       "    </tr>\n",
       "    <tr>\n",
       "      <th>F</th>\n",
       "      <td>1.052440</td>\n",
       "      <td>1.676853</td>\n",
       "      <td>0.094036</td>\n",
       "      <td>0.140220</td>\n",
       "      <td>1.295290</td>\n",
       "    </tr>\n",
       "  </tbody>\n",
       "</table>\n",
       "</div>"
      ],
      "text/plain": [
       "       col1      col2      col3      col4      col5\n",
       "A  2.673446  0.534271 -0.498221 -0.143774 -0.427843\n",
       "B -0.432098 -0.503221  0.313894 -0.437301  0.044688\n",
       "C       NaN       NaN       NaN       NaN       NaN\n",
       "D -0.510158  0.143061 -0.986030  0.475656  0.330070\n",
       "E  0.372351 -0.039455  0.119416 -0.091621  0.459434\n",
       "F  1.052440  1.676853  0.094036  0.140220  1.295290"
      ]
     },
     "execution_count": 29,
     "metadata": {},
     "output_type": "execute_result"
    }
   ],
   "source": [
    "# reindex including 'C'\n",
    "df2 = df.reindex(['A', 'B', 'C', 'D', 'E', 'F'])\n",
    "df2"
   ]
  },
  {
   "cell_type": "code",
   "execution_count": 30,
   "metadata": {
    "collapsed": true
   },
   "outputs": [],
   "source": [
    "new_columns = ['col1','col2','col3','col4','col5', 'col6']"
   ]
  },
  {
   "cell_type": "code",
   "execution_count": 34,
   "metadata": {
    "collapsed": false
   },
   "outputs": [
    {
     "data": {
      "text/html": [
       "<div>\n",
       "<table border=\"1\" class=\"dataframe\">\n",
       "  <thead>\n",
       "    <tr style=\"text-align: right;\">\n",
       "      <th></th>\n",
       "      <th>col1</th>\n",
       "      <th>col2</th>\n",
       "      <th>col3</th>\n",
       "      <th>col4</th>\n",
       "      <th>col5</th>\n",
       "      <th>col6</th>\n",
       "    </tr>\n",
       "  </thead>\n",
       "  <tbody>\n",
       "    <tr>\n",
       "      <th>A</th>\n",
       "      <td>2.673446</td>\n",
       "      <td>0.534271</td>\n",
       "      <td>-0.498221</td>\n",
       "      <td>-0.143774</td>\n",
       "      <td>-0.427843</td>\n",
       "      <td>NaN</td>\n",
       "    </tr>\n",
       "    <tr>\n",
       "      <th>B</th>\n",
       "      <td>-0.432098</td>\n",
       "      <td>-0.503221</td>\n",
       "      <td>0.313894</td>\n",
       "      <td>-0.437301</td>\n",
       "      <td>0.044688</td>\n",
       "      <td>NaN</td>\n",
       "    </tr>\n",
       "    <tr>\n",
       "      <th>C</th>\n",
       "      <td>NaN</td>\n",
       "      <td>NaN</td>\n",
       "      <td>NaN</td>\n",
       "      <td>NaN</td>\n",
       "      <td>NaN</td>\n",
       "      <td>NaN</td>\n",
       "    </tr>\n",
       "    <tr>\n",
       "      <th>D</th>\n",
       "      <td>-0.510158</td>\n",
       "      <td>0.143061</td>\n",
       "      <td>-0.986030</td>\n",
       "      <td>0.475656</td>\n",
       "      <td>0.330070</td>\n",
       "      <td>NaN</td>\n",
       "    </tr>\n",
       "    <tr>\n",
       "      <th>E</th>\n",
       "      <td>0.372351</td>\n",
       "      <td>-0.039455</td>\n",
       "      <td>0.119416</td>\n",
       "      <td>-0.091621</td>\n",
       "      <td>0.459434</td>\n",
       "      <td>NaN</td>\n",
       "    </tr>\n",
       "    <tr>\n",
       "      <th>F</th>\n",
       "      <td>1.052440</td>\n",
       "      <td>1.676853</td>\n",
       "      <td>0.094036</td>\n",
       "      <td>0.140220</td>\n",
       "      <td>1.295290</td>\n",
       "      <td>NaN</td>\n",
       "    </tr>\n",
       "  </tbody>\n",
       "</table>\n",
       "</div>"
      ],
      "text/plain": [
       "       col1      col2      col3      col4      col5  col6\n",
       "A  2.673446  0.534271 -0.498221 -0.143774 -0.427843   NaN\n",
       "B -0.432098 -0.503221  0.313894 -0.437301  0.044688   NaN\n",
       "C       NaN       NaN       NaN       NaN       NaN   NaN\n",
       "D -0.510158  0.143061 -0.986030  0.475656  0.330070   NaN\n",
       "E  0.372351 -0.039455  0.119416 -0.091621  0.459434   NaN\n",
       "F  1.052440  1.676853  0.094036  0.140220  1.295290   NaN"
      ]
     },
     "execution_count": 34,
     "metadata": {},
     "output_type": "execute_result"
    }
   ],
   "source": [
    "df2 = df2.reindex(columns=new_columns)\n",
    "df2"
   ]
  },
  {
   "cell_type": "code",
   "execution_count": 35,
   "metadata": {
    "collapsed": false
   },
   "outputs": [
    {
     "data": {
      "text/html": [
       "<div>\n",
       "<table border=\"1\" class=\"dataframe\">\n",
       "  <thead>\n",
       "    <tr style=\"text-align: right;\">\n",
       "      <th></th>\n",
       "      <th>col1</th>\n",
       "      <th>col2</th>\n",
       "      <th>col3</th>\n",
       "      <th>col4</th>\n",
       "      <th>col5</th>\n",
       "    </tr>\n",
       "  </thead>\n",
       "  <tbody>\n",
       "    <tr>\n",
       "      <th>A</th>\n",
       "      <td>2.673446</td>\n",
       "      <td>0.534271</td>\n",
       "      <td>-0.498221</td>\n",
       "      <td>-0.143774</td>\n",
       "      <td>-0.427843</td>\n",
       "    </tr>\n",
       "    <tr>\n",
       "      <th>B</th>\n",
       "      <td>-0.432098</td>\n",
       "      <td>-0.503221</td>\n",
       "      <td>0.313894</td>\n",
       "      <td>-0.437301</td>\n",
       "      <td>0.044688</td>\n",
       "    </tr>\n",
       "    <tr>\n",
       "      <th>D</th>\n",
       "      <td>-0.510158</td>\n",
       "      <td>0.143061</td>\n",
       "      <td>-0.986030</td>\n",
       "      <td>0.475656</td>\n",
       "      <td>0.330070</td>\n",
       "    </tr>\n",
       "    <tr>\n",
       "      <th>E</th>\n",
       "      <td>0.372351</td>\n",
       "      <td>-0.039455</td>\n",
       "      <td>0.119416</td>\n",
       "      <td>-0.091621</td>\n",
       "      <td>0.459434</td>\n",
       "    </tr>\n",
       "    <tr>\n",
       "      <th>F</th>\n",
       "      <td>1.052440</td>\n",
       "      <td>1.676853</td>\n",
       "      <td>0.094036</td>\n",
       "      <td>0.140220</td>\n",
       "      <td>1.295290</td>\n",
       "    </tr>\n",
       "  </tbody>\n",
       "</table>\n",
       "</div>"
      ],
      "text/plain": [
       "       col1      col2      col3      col4      col5\n",
       "A  2.673446  0.534271 -0.498221 -0.143774 -0.427843\n",
       "B -0.432098 -0.503221  0.313894 -0.437301  0.044688\n",
       "D -0.510158  0.143061 -0.986030  0.475656  0.330070\n",
       "E  0.372351 -0.039455  0.119416 -0.091621  0.459434\n",
       "F  1.052440  1.676853  0.094036  0.140220  1.295290"
      ]
     },
     "execution_count": 35,
     "metadata": {},
     "output_type": "execute_result"
    }
   ],
   "source": [
    "df"
   ]
  },
  {
   "cell_type": "code",
   "execution_count": 37,
   "metadata": {
    "collapsed": false
   },
   "outputs": [
    {
     "data": {
      "text/html": [
       "<div>\n",
       "<table border=\"1\" class=\"dataframe\">\n",
       "  <thead>\n",
       "    <tr style=\"text-align: right;\">\n",
       "      <th></th>\n",
       "      <th>col1</th>\n",
       "      <th>col2</th>\n",
       "      <th>col3</th>\n",
       "      <th>col4</th>\n",
       "      <th>col5</th>\n",
       "      <th>col6</th>\n",
       "    </tr>\n",
       "  </thead>\n",
       "  <tbody>\n",
       "    <tr>\n",
       "      <th>A</th>\n",
       "      <td>2.673446</td>\n",
       "      <td>0.534271</td>\n",
       "      <td>-0.498221</td>\n",
       "      <td>-0.143774</td>\n",
       "      <td>-0.427843</td>\n",
       "      <td>NaN</td>\n",
       "    </tr>\n",
       "    <tr>\n",
       "      <th>B</th>\n",
       "      <td>-0.432098</td>\n",
       "      <td>-0.503221</td>\n",
       "      <td>0.313894</td>\n",
       "      <td>-0.437301</td>\n",
       "      <td>0.044688</td>\n",
       "      <td>NaN</td>\n",
       "    </tr>\n",
       "    <tr>\n",
       "      <th>C</th>\n",
       "      <td>NaN</td>\n",
       "      <td>NaN</td>\n",
       "      <td>NaN</td>\n",
       "      <td>NaN</td>\n",
       "      <td>NaN</td>\n",
       "      <td>NaN</td>\n",
       "    </tr>\n",
       "    <tr>\n",
       "      <th>D</th>\n",
       "      <td>-0.510158</td>\n",
       "      <td>0.143061</td>\n",
       "      <td>-0.986030</td>\n",
       "      <td>0.475656</td>\n",
       "      <td>0.330070</td>\n",
       "      <td>NaN</td>\n",
       "    </tr>\n",
       "    <tr>\n",
       "      <th>E</th>\n",
       "      <td>0.372351</td>\n",
       "      <td>-0.039455</td>\n",
       "      <td>0.119416</td>\n",
       "      <td>-0.091621</td>\n",
       "      <td>0.459434</td>\n",
       "      <td>NaN</td>\n",
       "    </tr>\n",
       "    <tr>\n",
       "      <th>F</th>\n",
       "      <td>1.052440</td>\n",
       "      <td>1.676853</td>\n",
       "      <td>0.094036</td>\n",
       "      <td>0.140220</td>\n",
       "      <td>1.295290</td>\n",
       "      <td>NaN</td>\n",
       "    </tr>\n",
       "  </tbody>\n",
       "</table>\n",
       "</div>"
      ],
      "text/plain": [
       "       col1      col2      col3      col4      col5  col6\n",
       "A  2.673446  0.534271 -0.498221 -0.143774 -0.427843   NaN\n",
       "B -0.432098 -0.503221  0.313894 -0.437301  0.044688   NaN\n",
       "C       NaN       NaN       NaN       NaN       NaN   NaN\n",
       "D -0.510158  0.143061 -0.986030  0.475656  0.330070   NaN\n",
       "E  0.372351 -0.039455  0.119416 -0.091621  0.459434   NaN\n",
       "F  1.052440  1.676853  0.094036  0.140220  1.295290   NaN"
      ]
     },
     "execution_count": 37,
     "metadata": {},
     "output_type": "execute_result"
    }
   ],
   "source": [
    "# reindexing using the 'ix' function\n",
    "df.ix[['A','B','C','D','E','F'], new_columns]"
   ]
  },
  {
   "cell_type": "code",
   "execution_count": null,
   "metadata": {
    "collapsed": true
   },
   "outputs": [],
   "source": []
  }
 ],
 "metadata": {
  "anaconda-cloud": {},
  "kernelspec": {
   "display_name": "Python [default]",
   "language": "python",
   "name": "python3"
  },
  "language_info": {
   "codemirror_mode": {
    "name": "ipython",
    "version": 3
   },
   "file_extension": ".py",
   "mimetype": "text/x-python",
   "name": "python",
   "nbconvert_exporter": "python",
   "pygments_lexer": "ipython3",
   "version": "3.5.2"
  }
 },
 "nbformat": 4,
 "nbformat_minor": 1
}
